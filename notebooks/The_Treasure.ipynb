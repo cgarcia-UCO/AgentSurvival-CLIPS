{
  "cells": [
    {
      "cell_type": "markdown",
      "source": [
        "---\n",
        "##**¡Búsqueda del tesoro!**\n",
        "---\n",
        "Autor: Juan Valverde Santiago y Carlos García Martínez\n",
        "\n",
        "# Bienvenido a este puzzle.\n",
        "\n",
        "El objetivo de este juego es que puedas programar un agente capaz de encontrar un tesoro en algún sitio dentro de un laberinto.\n",
        "\n",
        "Para realizar esta tarea, sigue los pasos que se indican en cada sección.\n",
        "\n",
        "Pero primero, deberás guardarte una copia de este cuaderno, pues no puedes guardar cambios en el original."
      ],
      "metadata": {
        "collapsed": false,
        "pycharm": {
          "name": "#%% md\n"
        },
        "id": "EAffdtgaeHYz"
      }
    },
    {
      "cell_type": "markdown",
      "source": [
        "# Descarga e importación\n",
        "\n",
        "El siguiente bloque obtiene los archivos necesarios para la correcta ejecución del cuaderno.\n",
        "\n",
        "Simplemente, ejecuta el bloque sin modificar nada."
      ],
      "metadata": {
        "id": "hHWeMFaFem3h"
      }
    },
    {
      "cell_type": "code",
      "execution_count": null,
      "outputs": [],
      "source": [
        "%%capture\n",
        "!mkdir v002\n",
        "!mkdir images\n",
        "!wget 'https://github.com/cgarcia-UCO/AgentSurvival/raw/main/v002/Agent.py' -O v002/Agent.py\n",
        "!wget 'https://github.com/cgarcia-UCO/AgentSurvival/raw/main/v002/Enviroment.py' -O v002/Enviroment.py\n",
        "!wget 'https://github.com/cgarcia-UCO/AgentSurvival/raw/main/v002/__init__.py' -O v002/__init__.py\n",
        "!wget 'https://github.com/cgarcia-UCO/AgentSurvival/raw/main/v002/Enviroment_with_agents.py' -O v002/Enviroment_with_agents.py\n",
        "!wget 'https://github.com/cgarcia-UCO/AgentSurvival/raw/main/v002/InOut_Simple_Laberinth.py' -O v002/InOut_Simple_Laberinth.py\n",
        "!wget 'https://github.com/cgarcia-UCO/AgentSurvival/raw/main/images/PixelNoTomato.bmp' -O images/PixelNoTomato.bmp\n",
        "!wget 'https://github.com/cgarcia-UCO/AgentSurvival/raw/main/images/PixelTomato.bmp' -O images/PixelTomato.bmp\n",
        "!wget 'https://github.com/cgarcia-UCO/AgentSurvival/raw/main/images/face1_borders.bmp' -O images/face1_borders.bmp\n",
        "!wget 'https://github.com/cgarcia-UCO/AgentSurvival/raw/main/images/chest.png' -O images/chest.png\n",
        "!wget 'https://github.com/cgarcia-UCO/AgentSurvival/raw/main/images/exit_image.jpg' -O images/exit_image.jpg\n",
        "!wget 'https://github.com/cgarcia-UCO/AgentSurvival-CLIPS/raw/main/rules_to_clips_v2.py' -O rules_to_clips_v2.py\n",
        "\n",
        "!pip install clipspy\n",
        "\n",
        "from v002 import *\n",
        "from rules_to_clips_v2 import *"
      ],
      "metadata": {
        "pycharm": {
          "name": "#%%\n"
        },
        "id": "gNHRIJ96eHY1"
      }
    },
    {
      "cell_type": "markdown",
      "source": [
        "# Escritura de las reglas\n",
        "\n",
        "En este bloque debes trabajar. Aquí es donde debes escribir las reglas CLIPS y el nombre del agente.\n",
        "\n",
        "Tu objetivo será crear un comportamiento para que el agente encuentre el tesoro. No puedes modificar el nombre del vector, aunque sí puedes crear un mayor número de reglas.\n",
        "\n",
        "Las percepciones del agente son los muros que le rodean y los objetos que encuentra. Las opciones que puedes usar siguen la siguiente forma (el tesoro es realmente un objeto de tipo exit):\n",
        "*   (walls \\$? front \\$?)\n",
        "*   (not (walls \\$? back \\$?))\n",
        "*   (available_object exit ?x)\n",
        "\n",
        "Siendo los posibles muros front, back, left y right, que corresponden con los muros de delante, detrás, izquierda y derecha, respectivamente.\n",
        "\n",
        "Y siendo los posibles objetos que encuentra el agente los siguientes:\n",
        "*   exit\n",
        "*   food type 1\n",
        "*   agent\n",
        "\n",
        "Por otro lado, las acciones que puede realizar el agente son las siguientes:\n",
        "*   \"self.move_forward()\"\n",
        "*   \"self.turn_left()\"\n",
        "*   \"self.turn_right()\"\n",
        "*   Funciones de objeto\n",
        "\n",
        "Estas acciones deben añadirse en el hecho \"pending_function_calls\", como puedes ver en las reglas de ejemplo. En la causa de la regla se introduce el hecho en una variable; mientras que, en el consecuente se elimina el hecho y se vuelve a crear añadiendo las acciones que quieres que realice tu agente. En cuanto a las funciones de objeto, puedes observar la regla 4 de ejemplo llamada \"salir\" en la que se realiza la función de salida del laberinto.\n",
        "\n",
        "Ten en cuenta que las acciones del agente consumen movimientos, y el número de movimientos está limitado.\n",
        "\n",
        "¡Suerte!"
      ],
      "metadata": {
        "collapsed": false,
        "pycharm": {
          "name": "#%% md\n"
        },
        "id": "bNGj8-bbeHY3"
      }
    },
    {
      "cell_type": "code",
      "execution_count": null,
      "outputs": [],
      "source": [
        "# TODO: Aquí debes escribir las reglas CLIPS. Las siguientes son sólo un ejemplo de un agente que se mueve de forma aleatoria\n",
        "# y quizás, sale del laberinto\n",
        "rules = []\n",
        "rule1 = \"\"\"\n",
        "    (defrule giraDcha\n",
        "    ?h<-(pending_function_calls $?calls)\n",
        "    =>\n",
        "    (retract ?h)\n",
        "    (assert (pending_function_calls $?calls \"self.turn_right()\"))\n",
        "    )\"\"\"\n",
        "rules.append(rule1)\n",
        "rule2 = \"\"\"\n",
        "    (defrule haciaDelante\n",
        "    (not (walls $? front $?))\n",
        "    ?h<-(pending_function_calls $?calls)\n",
        "    =>\n",
        "    (retract ?h)\n",
        "    (assert (pending_function_calls $?calls \"self.move_forward()\" \"show_state()\"))\n",
        "    )\"\"\"\n",
        "rules.append(rule2)\n",
        "rule3 = \"\"\"\n",
        "    (defrule giraIzqda\n",
        "    ?h<-(pending_function_calls $?calls)\n",
        "    =>\n",
        "    (retract ?h)\n",
        "    (assert (pending_function_calls $?calls \"self.turn_left()\"))\n",
        "    )\"\"\"\n",
        "rules.append(rule3)\n",
        "rule4 = \"\"\"\n",
        "  (defrule salir\n",
        "  (available_object exit ?x)\n",
        "  ?h<-(pending_function_calls $?calls)\n",
        "  =>\n",
        "  (retract ?h)\n",
        "  (assert (pending_function_calls ?x))\n",
        "  )\n",
        "  \"\"\"\n",
        "rules.append(rule4)\n",
        "\n",
        "# Se definen las reglas en el entorno CLIPS, NO MODIFICAR\n",
        "env.clear()\n",
        "for i in rules:\n",
        "  env.build(i)\n",
        "env.reset()\n",
        "\n",
        "# TODO: Aquí debes escribir el nombre de tu agente\n",
        "agent_name = \"YO!\""
      ],
      "metadata": {
        "pycharm": {
          "name": "#%%\n"
        },
        "id": "0lVNcczIeHY4"
      }
    },
    {
      "cell_type": "markdown",
      "source": [
        "# Ejecución del puzzle\n",
        "\n",
        "Ha llegado el momento de ejecutar el puzzle para comprobar el comportamiento de tu agente.\n",
        "\n",
        "En principio, no debes modificar nada. Aunque puedes modificar algún parámetro de la función InOut_Simple_Laberinth, por ejemplo el primer parámetro es el tamaño del escenario."
      ],
      "metadata": {
        "collapsed": false,
        "pycharm": {
          "name": "#%% md\n"
        },
        "id": "-icyPNfceHY6"
      }
    },
    {
      "cell_type": "code",
      "execution_count": null,
      "outputs": [],
      "source": [
        "# reset_position(runner.env, runner.memory)\n",
        "lb1 = InOut_Simple_Laberinth(10, plot_run='always',\n",
        "                                 remove_walls_prob=0.5,\n",
        "                                 exit_at_border=False,\n",
        "                                 entry_at_border=False, move_protection=False)\n",
        "\n",
        "lb1.create_agent(agent_name, move)\n",
        "lb1.run()"
      ],
      "metadata": {
        "pycharm": {
          "name": "#%%\n",
          "is_executing": true
        },
        "id": "OoBJc1hbeHY6"
      }
    },
    {
      "cell_type": "markdown",
      "source": [
        "# ¿Es realmente bueno el comportamiento de tu agente?\n",
        "En el siguiente bloque puedes comprobar cuántas veces es tu agente capaz de encontrar el tesoro del laberinto de un total de ejecuciones.\n",
        "\n",
        "En principio, no debes modificar nada. Aunque puedes modificar el número de ejecucuciones totales (la variable num_runs)."
      ],
      "metadata": {
        "collapsed": false,
        "pycharm": {
          "name": "#%% md\n"
        },
        "id": "gDotdAxjeHY7"
      }
    },
    {
      "cell_type": "code",
      "execution_count": null,
      "outputs": [],
      "source": [
        "from tqdm import tqdm\n",
        "num_runs = 200\n",
        "num_success =  0\n",
        "\n",
        "for _ in tqdm(range(num_runs)):\n",
        "  lb1 = InOut_Simple_Laberinth(10, plot_run='never',\n",
        "                                 remove_walls_prob=0.5,\n",
        "                                 exit_at_border=False,\n",
        "                                 entry_at_border=False)\n",
        "  lb1.create_agent(agent_name, move)\n",
        "  winner = lb1.run()\n",
        "\n",
        "  if winner is not None:\n",
        "    num_success += 1\n",
        "\n",
        "print(\"\\n\\nEncontraste la salida en\", num_success, \"ocasiones de\", num_runs)"
      ],
      "metadata": {
        "pycharm": {
          "name": "#%%\n",
          "is_executing": true
        },
        "id": "pQBMpmhseHY7"
      }
    }
  ],
  "metadata": {
    "kernelspec": {
      "display_name": "Python 3",
      "language": "python",
      "name": "python3"
    },
    "language_info": {
      "codemirror_mode": {
        "name": "ipython",
        "version": 2
      },
      "file_extension": ".py",
      "mimetype": "text/x-python",
      "name": "python",
      "nbconvert_exporter": "python",
      "pygments_lexer": "ipython2",
      "version": "2.7.6"
    },
    "colab": {
      "provenance": []
    }
  },
  "nbformat": 4,
  "nbformat_minor": 0
}
