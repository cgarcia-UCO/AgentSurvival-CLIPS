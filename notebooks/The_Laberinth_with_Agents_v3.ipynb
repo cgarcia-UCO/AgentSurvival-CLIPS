{
 "nbformat": 4,
 "nbformat_minor": 0,
 "metadata": {
  "colab": {
   "name": "Laberinto_v3(varios_comportamientos).ipynb",
   "provenance": [],
   "collapsed_sections": []
  },
  "kernelspec": {
   "name": "python3",
   "display_name": "Python 3"
  },
  "language_info": {
   "name": "python"
  }
 },
 "cells": [
  {
   "cell_type": "markdown",
   "source": [
    "El siguiente bloque descarga todos los archivos necesarios para la correcta ejecución del cuaderno."
   ],
   "metadata": {
    "collapsed": false,
    "pycharm": {
     "name": "#%% md\n"
    }
   }
  },
  {
   "cell_type": "code",
   "execution_count": 12,
   "outputs": [],
   "source": [
    "%%capture\n",
    "!mkdir v002\n",
    "!mkdir images\n",
    "!wget 'https://github.com/cgarcia-UCO/AgentSurvival/raw/main/v002/Agent.py' -O v002/Agent.py\n",
    "!wget 'https://github.com/cgarcia-UCO/AgentSurvival/raw/main/v002/Enviroment.py' -O v002/Enviroment.py\n",
    "!wget 'https://github.com/cgarcia-UCO/AgentSurvival/raw/main/v002/__init__.py' -O v002/__init__.py\n",
    "!wget 'https://github.com/cgarcia-UCO/AgentSurvival/raw/main/v002/Enviroment_with_agents.py' -O v002/Enviroment_with_agents.py\n",
    "!wget 'https://github.com/cgarcia-UCO/AgentSurvival/raw/main/v002/InOut_Simple_Laberinth.py' -O v002/InOut_Simple_Laberinth.py\n",
    "!wget 'https://github.com/cgarcia-UCO/AgentSurvival/raw/main/images/PixelNoTomato.bmp' -O images/PixelNoTomato.bmp\n",
    "!wget 'https://github.com/cgarcia-UCO/AgentSurvival/raw/main/images/PixelTomato.bmp' -O images/PixelTomato.bmp\n",
    "!wget 'https://github.com/cgarcia-UCO/AgentSurvival/raw/main/images/face1_borders.bmp' -O images/face1_borders.bmp\n",
    "!wget 'https://raw.githubusercontent.com/juanvs00/AgentSurvival/main/rules_to_clips_v3.py' -O rules_to_clips_v3.py\n",
    "\n",
    "!pip install clipspy\n",
    "\n",
    "from v002 import *\n",
    "from rules_to_clips_v3 import *"
   ],
   "metadata": {
    "collapsed": false,
    "pycharm": {
     "name": "#%%\n"
    }
   }
  },
  {
   "cell_type": "markdown",
   "source": [
    "En el siguiente bloque se deben escribir las reglas CLIPS y el nombre del agente.\n",
    "El puzzle a resolver será que múltiples agentes peleen sobre un laberinto, gana el último con vida."
   ],
   "metadata": {
    "collapsed": false,
    "pycharm": {
     "name": "#%% md\n"
    }
   }
  },
  {
   "cell_type": "code",
   "execution_count": 13,
   "outputs": [],
   "source": [
    "# TODO: Aquí debes escribir las reglas CLIPS para los agentes Runners\n",
    "rules_run = []\n",
    "rule1 = \"\"\"\n",
    "    (defrule giraIzqda\n",
    "    (not (walls $? left $?))\n",
    "    ?h<-(pending_function_calls $?calls)\n",
    "    =>\n",
    "    (retract ?h)\n",
    "    (assert (pending_function_calls $?calls \"self.turn_left()\" \"self.move_forward()\"))\n",
    "    )\"\"\"\n",
    "rules_run.append(rule1)\n",
    "rule2 = \"\"\"\n",
    "    (defrule haciaDelante\n",
    "    (walls $? left $?)\n",
    "    (not (walls $? front $?))\n",
    "    ?h<-(pending_function_calls $?calls)\n",
    "    =>\n",
    "    (retract ?h)\n",
    "    (assert (pending_function_calls $?calls \"self.move_forward()\"))\n",
    "    )\"\"\"\n",
    "rules_run.append(rule2)\n",
    "rule3 = \"\"\"\n",
    "  (defrule asdf\n",
    "  (available_object food type 1 ?y)\n",
    "  (not (available_object agent ?a))\n",
    "  ?h<-(pending_function_calls $?calls)\n",
    "  =>\n",
    "  (retract ?h)\n",
    "  (assert (pending_function_calls ?y))\n",
    "  )\"\"\"\n",
    "rules_run.append(rule3)\n",
    "rule4 = \"\"\"\n",
    "  (defrule comer\n",
    "  (available_object food type 1 ?y)\n",
    "  (not (available_object agent ?a))\n",
    "  ?h<-(pending_function_calls $?calls)\n",
    "  =>\n",
    "  (retract ?h)\n",
    "  (assert (pending_function_calls ?y))\n",
    "  )\"\"\"\n",
    "rules_run.append(rule4)"
   ],
   "metadata": {
    "collapsed": false,
    "pycharm": {
     "name": "#%%\n"
    }
   }
  },
  {
   "cell_type": "markdown",
   "source": [
    "El siguiente bloque es un duplicado del anterior, en este puedes crear un diferente comportamiento para que haya dos tipos de agentes.\n",
    "En el caso de que no quieras utilizar este segundo tipo de comportamiento, debes comentar aquellas líneas que tengan variables relativas a los agentes Punchers."
   ],
   "metadata": {
    "collapsed": false,
    "pycharm": {
     "name": "#%% md\n"
    }
   }
  },
  {
   "cell_type": "code",
   "execution_count": 14,
   "outputs": [],
   "source": [
    "# TODO: Aquí debes escribir las reglas CLIPS para los agentes Punchers\n",
    "rules_punch = []\n",
    "rule1 = \"\"\"\n",
    "    (defrule giraDcha\n",
    "    (not (walls $? right $?))\n",
    "    ?h<-(pending_function_calls $?calls)\n",
    "    =>\n",
    "    (retract ?h)\n",
    "    (assert (pending_function_calls $?calls \"self.turn_right()\" \"self.move_forward()\"))\n",
    "    )\"\"\"\n",
    "rules_punch.append(rule1)\n",
    "rule2 = \"\"\"\n",
    "    (defrule haciaDelante\n",
    "    (walls $? right $?)\n",
    "    (not (walls $? front $?))\n",
    "    ?h<-(pending_function_calls $?calls)\n",
    "    =>\n",
    "    (retract ?h)\n",
    "    (assert (pending_function_calls $?calls \"self.move_forward()\"))\n",
    "    )\"\"\"\n",
    "rules_punch.append(rule2)\n",
    "rule3 = \"\"\"\n",
    "    (defrule giraIzqda\n",
    "    (walls $? right $?)\n",
    "    (walls $? front $?)\n",
    "    ?h<-(pending_function_calls $?calls)\n",
    "    =>\n",
    "    (retract ?h)\n",
    "    (assert (pending_function_calls $?calls \"self.turn_left()\"))\n",
    "    )\"\"\"\n",
    "rules_punch.append(rule3)\n",
    "rule4 = \"\"\"\n",
    "  (defrule golpear\n",
    "  (available_object agent ?z)\n",
    "  (not (available_object food type 1 ?z))\n",
    "  ?h<-(pending_function_calls $?calls)\n",
    "  =>\n",
    "  (retract ?h)\n",
    "  (assert (pending_function_calls ?z))\n",
    "  )\"\"\"\n",
    "rules_punch.append(rule4)"
   ],
   "metadata": {
    "collapsed": false,
    "pycharm": {
     "name": "#%%\n"
    }
   }
  },
  {
   "cell_type": "markdown",
   "source": [
    "En el siguiente bloque se inicializan los tipos de agentes que vayas a utilizar."
   ],
   "metadata": {
    "collapsed": false,
    "pycharm": {
     "name": "#%% md\n"
    }
   }
  },
  {
   "cell_type": "code",
   "execution_count": 15,
   "outputs": [],
   "source": [
    "runner = Agent_CLIPS(rules_run)\n",
    "puncher = Agent_CLIPS(rules_punch)"
   ],
   "metadata": {
    "collapsed": false,
    "pycharm": {
     "name": "#%%\n"
    }
   }
  },
  {
   "cell_type": "markdown",
   "source": [
    "El siguiente bloque son las funciones move de los agentes, no modificar."
   ],
   "metadata": {
    "collapsed": false,
    "pycharm": {
     "name": "#%% md\n"
    }
   }
  },
  {
   "cell_type": "code",
   "execution_count": 16,
   "outputs": [],
   "source": [
    "def move_run(self, available_objects=None):\n",
    "\n",
    "    # Actualizar el entorno CLIPS y obtener las interacciones del agente\n",
    "    walls, objects, pos, ori = runner.agent_context(self)\n",
    "\n",
    "    # Obtener las funciones y los objetos gracias al algoritmo\n",
    "    functions, available_objects = algorithm(objects, runner.env, available_objects)\n",
    "\n",
    "    # Ejecutar las funciones en pending_function_calls\n",
    "    for j in functions:\n",
    "        j = j.replace('\"','')\n",
    "        refresh_position(runner.env,j)\n",
    "        eval(j)\n",
    "\n",
    "def move_punch(self, available_objects=None):\n",
    "\n",
    "    # Actualizar el entorno CLIPS y obtener las interacciones del agente\n",
    "    walls, objetos, pos, ori = puncher.agent_context(self)\n",
    "\n",
    "    # Obtener las funciones y los objetos gracias al algoritmo\n",
    "    functions, available_objects = algorithm(objetos, puncher.env, available_objects)\n",
    "\n",
    "    # Ejecutar las funciones en pending_function_calls\n",
    "    for j in functions:\n",
    "        j = j.replace('\"','')\n",
    "        refresh_position(puncher.env,j)\n",
    "        eval(j)"
   ],
   "metadata": {
    "collapsed": false,
    "pycharm": {
     "name": "#%%\n"
    }
   }
  },
  {
   "cell_type": "markdown",
   "source": [
    "El siguiente bloque es la ejecución del puzzle.\n",
    "Puedes modificar el primer parámetro de la función Enviroment_with_agents, que corresponde con el tamaño del escenario.\n",
    "También puedes modificar las variables del principio del bloque."
   ],
   "metadata": {
    "collapsed": false,
    "pycharm": {
     "name": "#%% md\n"
    }
   }
  },
  {
   "cell_type": "code",
   "execution_count": null,
   "outputs": [],
   "source": [
    "num_agents = 8\n",
    "hp = 150\n",
    "\n",
    "reset_position(runner.env, runner.memory)\n",
    "reset_position(puncher.env, puncher.memory)\n",
    "\n",
    "lb1 = Enviroment_with_agents(10, max_moves_per_turn=7,\n",
    "                                 plot_run='every epoch',\n",
    "                                 move_protection=False, remove_walls_prob=0.5)\n",
    "for i in range(int(num_agents/2)):\n",
    "    lb1.create_agent('Runner' + str(i+1), move_run, life=hp)\n",
    "    lb1.create_agent('Puncher' + str(i+1), move_punch, life=hp)\n",
    "\n",
    "lb1.run()"
   ],
   "metadata": {
    "collapsed": false,
    "pycharm": {
     "name": "#%%\n",
     "is_executing": true
    }
   }
  }
 ]
}