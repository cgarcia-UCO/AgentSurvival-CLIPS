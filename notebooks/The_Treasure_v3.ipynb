{
  "cells": [
    {
      "cell_type": "markdown",
      "source": [
        "---\n",
        "##**¡Búsqueda del tesoro!**\n",
        "---\n",
        "Autor: Juan Valverde Santiago\n",
        "\n",
        "# Bienvenido a este puzzle.\n",
        "\n",
        "En este juego, podrás programar el comportamiento de un agente para comprobar si es capaz de encontrar un tesoro en un laberinto.\n",
        "\n",
        "Para realizar esta tarea, sigue los pasos que se indican en cada sección.\n",
        "\n",
        "Pero primero, deberás guardarte una copia de este cuaderno, pues no puedes guardar cambios en el original."
      ],
      "metadata": {
        "collapsed": false,
        "pycharm": {
          "name": "#%% md\n"
        },
        "id": "EAffdtgaeHYz"
      }
    },
    {
      "cell_type": "markdown",
      "source": [
        "# Descarga e importación\n",
        "\n",
        "El siguiente bloque obtiene los archivos necesarios para la correcta ejecución del cuaderno.\n",
        "\n",
        "Simplemente, ejecuta el bloque sin modificar nada."
      ],
      "metadata": {
        "id": "hHWeMFaFem3h"
      }
    },
    {
      "cell_type": "code",
      "execution_count": 1,
      "outputs": [],
      "source": [
        "%%capture\n",
        "!mkdir v002\n",
        "!mkdir images\n",
        "!wget 'https://github.com/cgarcia-UCO/AgentSurvival/raw/main/v002/Agent.py' -O v002/Agent.py\n",
        "!wget 'https://github.com/cgarcia-UCO/AgentSurvival/raw/main/v002/Enviroment.py' -O v002/Enviroment.py\n",
        "!wget 'https://github.com/cgarcia-UCO/AgentSurvival/raw/main/v002/__init__.py' -O v002/__init__.py\n",
        "!wget 'https://github.com/cgarcia-UCO/AgentSurvival/raw/main/v002/Enviroment_with_agents.py' -O v002/Enviroment_with_agents.py\n",
        "!wget 'https://github.com/cgarcia-UCO/AgentSurvival/raw/main/v002/InOut_Simple_Laberinth.py' -O v002/InOut_Simple_Laberinth.py\n",
        "!wget 'https://github.com/cgarcia-UCO/AgentSurvival/raw/main/images/PixelNoTomato.bmp' -O images/PixelNoTomato.bmp\n",
        "!wget 'https://github.com/cgarcia-UCO/AgentSurvival/raw/main/images/PixelTomato.bmp' -O images/PixelTomato.bmp\n",
        "!wget 'https://github.com/cgarcia-UCO/AgentSurvival/raw/main/images/face1_borders.bmp' -O images/face1_borders.bmp\n",
        "!wget 'https://raw.githubusercontent.com/juanvs00/AgentSurvival/main/rules_to_clips_v3.py' -O rules_to_clips_v3.py\n",
        "\n",
        "!pip install clipspy\n",
        "\n",
        "from v002 import *\n",
        "from rules_to_clips_v3 import *"
      ],
      "metadata": {
        "pycharm": {
          "name": "#%%\n"
        },
        "id": "gNHRIJ96eHY1"
      }
    },
    {
      "cell_type": "markdown",
      "source": [
        "# Escritura de las reglas\n",
        "\n",
        "En este bloque debes trabajar. Aquí es donde debes escribir las reglas CLIPS y el nombre del agente.\n",
        "\n",
        "Tu objetivo será crear un comportamiento para que los agentes peleen en un laberinto. No modifiques nombres de variables, céntrate en escribir las reglas que desees en la variable file.\n",
        "\n",
        "Las percepciones del agente son los muros que le rodean y los objetos que encuentra, las opciones que puedes usar siguen la siguiente forma:\n",
        "*   (walls \\$? front \\$?)\n",
        "*   (not (walls \\$? back \\$?))\n",
        "*   (available_object exit ?x)\n",
        "\n",
        "Siendo los posibles muros front, back, left y right, que corresponden con los muros de delante, detrás, izquierda y derecha, respectivamente.\n",
        "\n",
        "Y siendo los posibles objetos que encuentra el agente los siguientes:\n",
        "*   exit\n",
        "*   food type 1\n",
        "*   agent\n",
        "\n",
        "Por otro lado, las acciones que puede realizar el agente son las siguientes:\n",
        "*   \"self.move_forward()\"\n",
        "*   \"self.turn_left()\"\n",
        "*   \"self.turn_right()\"\n",
        "*   Funciones de objeto\n",
        "\n",
        "Estas acciones deben añadirse en el hecho \"pending_function_calls\", como puedes ver en las reglas de ejemplo. En la causa de la regla se introduce el hecho en una variable; mientras que, en el consecuente se elimina el hecho y se vuelve a crear añadiendo las acciones que quieres que realice tu agente. En cuanto a las funciones de objeto, puedes observar la regla 4 de ejemplo llamada \"salir\" en la que se realiza la función de salida del laberinto.\n",
        "\n",
        "Ten en cuenta que las acciones del agente consumen movimientos, y el número de movimientos está limitado.\n",
        "\n",
        "\n",
        "Por último, también debes tener en cuenta el movimiento del agente modificando el hecho pos, que refiere a la posición del agente; y el hecho ori, que refiere hacia donde mira el agente. Lo que debes saber para resolver este problema es la estructura que usan estos datos:\n",
        "*   (pos 0 0)\n",
        "*   (ori 1 0)\n",
        "\n",
        "Al comenzar el puzzle, la posición del agente(sea cuál sea) será la posición (0,0). En este juego la primera coordenada se refiere a la posición del eje Y y la segunda coordenada al eje X.\n",
        "\n",
        "En cuanto a la orientación del agente pueden ser las siguientes:\n",
        "*   Hacia arriba ---> (1, 0)\n",
        "*   Hacia abajo ---> (-1, 0)\n",
        "*   Hacia la izquierda ---> (0, -1)\n",
        "*   Hacia la derecha ---> (0, 1)\n",
        "\n",
        "Conociendo estos datos, debes introducir las operaciones para que el agente tenga sus hechos de posición y orientación correctos en todo momento. Esto es importante porque cuando el agente pasé por la misma posición 5 veces, se activará en el entorno el hecho (caution_loop), usado en la regla de ejemplo llamada \"bucle\".\n",
        "\n",
        "**IMPORTANTE**\n",
        "\n",
        "Debes usar el hecho (caution_loop) para programar el comportamiento del agente si es que quieres que tu agente encuentre el tesoro por lo general.\n",
        "\n",
        "\n",
        "¡Suerte!"
      ],
      "metadata": {
        "collapsed": false,
        "pycharm": {
          "name": "#%% md\n"
        },
        "id": "bNGj8-bbeHY3"
      }
    },
    {
      "cell_type": "code",
      "execution_count": 2,
      "outputs": [],
      "source": [
        "# TODO: Aquí debes escribir las reglas CLIPS\n",
        "file = \"\"\"\n",
        "    (defrule giraDcha\n",
        "    (not (walls $? right $?))\n",
        "    ?h<-(pending_function_calls $?calls)\n",
        "    ?h_pos<-(pos ?p1 ?p2)\n",
        "    ?h_ori<-(ori ?v1 ?v2)\n",
        "    (not (available_object exit ?x))\n",
        "    (not (caution_loop))\n",
        "    =>\n",
        "    (retract ?h ?h_ori ?h_pos)\n",
        "    (assert (pos (- ?p1 ?v2) (+ ?p2 ?v1)))\n",
        "    (assert (ori (* -1 ?v2) ?v1))\n",
        "    (assert (pending_function_calls $?calls \"self.turn_right()\" \"self.move_forward()\"))\n",
        "    )\n",
        "\n",
        "    (defrule haciaDelante\n",
        "    (walls $? right $?)\n",
        "    (not (walls $? front $?))\n",
        "    ?h_pos<-(pos ?p1 ?p2)\n",
        "    ?h_ori<-(ori ?v1 ?v2)\n",
        "    ?h<-(pending_function_calls $?calls)\n",
        "    (not (available_object exit ?x))\n",
        "    (not (caution_loop))\n",
        "    =>\n",
        "    (retract ?h ?h_pos ?h_ori)\n",
        "    (assert (pos (+ ?p1 ?v1) (+ ?p2 ?v2)))\n",
        "    (assert (ori ?v1 ?v2))\n",
        "    (assert (pending_function_calls $?calls \"self.move_forward()\"))\n",
        "    )\n",
        "\n",
        "    (defrule giraIzqda\n",
        "    (walls $? right $?)\n",
        "    (walls $? front $?)\n",
        "    (not (walls $? left $?))\n",
        "    ?h_pos<-(pos ?p1 ?p2)\n",
        "    ?h_ori<-(ori ?v1 ?v2)\n",
        "    ?h<-(pending_function_calls $?calls)\n",
        "    (not (available_object exit ?x))\n",
        "    (not (caution_loop))\n",
        "    =>\n",
        "    (retract ?h ?h_pos ?h_ori)\n",
        "    (assert (pos (+ ?p1 ?v2) (- ?p2 ?v1)))\n",
        "    (assert (ori ?v2 (* -1 ?v1)))\n",
        "    (assert (pending_function_calls $?calls \"self.turn_left()\" \"self.move_forward()\"))\n",
        "    )\n",
        "\n",
        "    (defrule perdido\n",
        "    (walls $? right $?)\n",
        "    (walls $? front $?)\n",
        "    (walls $? left $?)\n",
        "    ?h_pos<-(pos ?p1 ?p2)\n",
        "    ?h_ori<-(ori ?v1 ?v2)\n",
        "    ?h<-(pending_function_calls $?calls)\n",
        "    (not (available_object exit ?x))\n",
        "    =>\n",
        "    (retract ?h ?h_pos ?h_ori)\n",
        "    (assert (pos (- ?p1 ?v1) (- ?p2 ?v2)))\n",
        "    (assert (ori (* -1 ?v1) (* -1 ?v2)))\n",
        "    (assert (pending_function_calls $?calls \"self.turn_left()\" \"self.turn_left()\" \"self.move_forward()\"))\n",
        "    )\n",
        "\n",
        "    (defrule salir\n",
        "    (available_object exit ?x)\n",
        "    ?h<-(pending_function_calls $?calls)\n",
        "    =>\n",
        "    (retract ?h)\n",
        "    (assert (pending_function_calls ?x))\n",
        "    )\n",
        "\n",
        "    (defrule bucle\n",
        "    (not (walls $? left $?))\n",
        "    ?l<-(caution_loop)\n",
        "    ?h_pos<-(pos ?p1 ?p2)\n",
        "    ?h_ori<-(ori ?v1 ?v2)\n",
        "    ?h<-(pending_function_calls $?calls)\n",
        "    =>\n",
        "    (retract ?h ?h_pos ?h_ori ?l)\n",
        "    (assert (pos (+ ?p1 ?v2) (- ?p2 ?v1)))\n",
        "    (assert (ori ?v2 (* -1 ?v1)))\n",
        "    (assert (pending_function_calls $?calls \"self.turn_left()\" \"self.move_forward()\"))\n",
        "    )\n",
        "\n",
        "    (defrule bucle2\n",
        "    (walls $? left $?)\n",
        "    (not (walls $? front $?))\n",
        "    ?l<-(caution_loop)\n",
        "    ?h_pos<-(pos ?p1 ?p2)\n",
        "    ?h_ori<-(ori ?v1 ?v2)\n",
        "    ?h<-(pending_function_calls $?calls)\n",
        "    =>\n",
        "    (retract ?h ?h_pos ?h_ori ?l)\n",
        "    (assert (pos (+ ?p1 ?v1) (+ ?p2 ?v2)))\n",
        "    (assert (ori ?v1 ?v2))\n",
        "    (assert (pending_function_calls $?calls \"self.move_forward()\"))\n",
        "    )\n",
        "\n",
        "    (defrule bucle3\n",
        "    (walls $? left $?)\n",
        "    (walls $? front $?)\n",
        "    (not (walls $? right $?))\n",
        "    ?l<-(caution_loop)\n",
        "    ?h_pos<-(pos ?p1 ?p2)\n",
        "    ?h_ori<-(ori ?v1 ?v2)\n",
        "    ?h<-(pending_function_calls $?calls)\n",
        "    =>\n",
        "    (retract ?h ?h_pos ?h_ori ?l)\n",
        "    (assert (pos (- ?p1 ?v2) (+ ?p2 ?v1)))\n",
        "    (assert (ori (* -1 ?v2) ?v1))\n",
        "    (assert (pending_function_calls $?calls \"self.turn_right()\" \"self.move_forward()\"))\n",
        "    )\"\"\"\n",
        "\n",
        "with open(\"rules.CLP\", \"w\") as txt:\n",
        "    print(format(file), file=txt)\n",
        "\n",
        "rules= \"rules.CLP\"\n",
        "\n",
        "# TODO: Aquí debes escribir el nombre de tu agente\n",
        "agent_name = \"YO!\""
      ],
      "metadata": {
        "pycharm": {
          "name": "#%%\n"
        },
        "id": "0lVNcczIeHY4"
      }
    },
    {
      "cell_type": "markdown",
      "source": [
        "# Función move\n",
        "\n",
        "El siguiente bloque corresponde con la función move del agente. Simplemente, ejecuta los bloques de código.\n",
        "\n",
        "**¡NO DEBES MODIFICARLOS!**"
      ],
      "metadata": {
        "collapsed": false,
        "pycharm": {
          "name": "#%% md\n"
        },
        "id": "50DbgakSeHY5"
      }
    },
    {
      "cell_type": "code",
      "execution_count": 3,
      "outputs": [],
      "source": [
        "runner = Agent_CLIPS(rules)"
      ],
      "metadata": {
        "pycharm": {
          "name": "#%%\n"
        },
        "id": "1fCNaK32eHY5"
      }
    },
    {
      "cell_type": "markdown",
      "source": [
        "El siguiente bloque es la función move del agente, no modificar."
      ],
      "metadata": {
        "collapsed": false,
        "pycharm": {
          "name": "#%% md\n"
        },
        "id": "tux4WPDyeHY5"
      }
    },
    {
      "cell_type": "code",
      "execution_count": 4,
      "outputs": [],
      "source": [
        "def move(self, available_objects=None):\n",
        "\n",
        "  # Actualizar el entorno CLIPS y obtener las interacciones del agente\n",
        "  walls, objects = runner.agent_context(self)\n",
        "\n",
        "  # Obtener las funciones y los objetos gracias al algoritmo\n",
        "  functions, available_objects = algorithm(objects, runner.env, available_objects)\n",
        "\n",
        "  # Ejecutar las funciones en pending_function_calls\n",
        "  for j in functions:\n",
        "      j = j.replace('\"','')\n",
        "      eval(j)"
      ],
      "metadata": {
        "pycharm": {
          "name": "#%%\n"
        },
        "id": "4fREF9ugeHY5"
      }
    },
    {
      "cell_type": "markdown",
      "source": [
        "# Ejecución del puzzle\n",
        "\n",
        "Ha llegado el momento de ejecutar el puzzle para comprobar el comportamiento de tu agente.\n",
        "\n",
        "En principio, no debes modificar nada. Aunque puedes modificar algún parámetro de la función InOut_Simple_Laberinth, por ejemplo el primer parámetro es el tamaño del escenario."
      ],
      "metadata": {
        "collapsed": false,
        "pycharm": {
          "name": "#%% md\n"
        },
        "id": "-icyPNfceHY6"
      }
    },
    {
      "cell_type": "code",
      "execution_count": null,
      "outputs": [],
      "source": [
        "reset_position(runner.env, runner.memory)\n",
        "lb1 = InOut_Simple_Laberinth(10, plot_run='always',\n",
        "                                 remove_walls_prob=0.5,\n",
        "                                 exit_at_border=False,\n",
        "                                 entry_at_border=False)\n",
        "\n",
        "lb1.create_agent(agent_name, move)\n",
        "lb1.run()"
      ],
      "metadata": {
        "pycharm": {
          "name": "#%%\n",
          "is_executing": true
        },
        "id": "OoBJc1hbeHY6"
      }
    },
    {
      "cell_type": "markdown",
      "source": [
        "# ¿Es realmente bueno el comportamiento de tu agente?\n",
        "En el siguiente bloque puedes comprobar cuántas veces es tu agente capaz de escapar del laberinto de un total de ejecuciones.\n",
        "\n",
        "En principio, no debes modificar nada. Aunque puedes puedes modificar el número de ejecucuciones totales (la variable num_runs)."
      ],
      "metadata": {
        "collapsed": false,
        "pycharm": {
          "name": "#%% md\n"
        },
        "id": "gDotdAxjeHY7"
      }
    },
    {
      "cell_type": "code",
      "execution_count": null,
      "outputs": [],
      "source": [
        "from tqdm import tqdm\n",
        "num_runs = 200\n",
        "num_success =  0\n",
        "\n",
        "for _ in tqdm(range(num_runs)):\n",
        "  lb1 = InOut_Simple_Laberinth(10, plot_run='never',\n",
        "                                 remove_walls_prob=0.5,\n",
        "                                 exit_at_border=False,\n",
        "                                 entry_at_border=False)\n",
        "  lb1.create_agent(agent_name, move)\n",
        "  winner = lb1.run()\n",
        "\n",
        "  if winner is not None:\n",
        "    num_success += 1\n",
        "\n",
        "print(\"\\n\\nEncontraste la salida en\", num_success, \"ocasiones de\", num_runs)"
      ],
      "metadata": {
        "pycharm": {
          "name": "#%%\n",
          "is_executing": true
        },
        "id": "pQBMpmhseHY7"
      }
    }
  ],
  "metadata": {
    "kernelspec": {
      "display_name": "Python 3",
      "language": "python",
      "name": "python3"
    },
    "language_info": {
      "codemirror_mode": {
        "name": "ipython",
        "version": 2
      },
      "file_extension": ".py",
      "mimetype": "text/x-python",
      "name": "python",
      "nbconvert_exporter": "python",
      "pygments_lexer": "ipython2",
      "version": "2.7.6"
    },
    "colab": {
      "provenance": []
    }
  },
  "nbformat": 4,
  "nbformat_minor": 0
}