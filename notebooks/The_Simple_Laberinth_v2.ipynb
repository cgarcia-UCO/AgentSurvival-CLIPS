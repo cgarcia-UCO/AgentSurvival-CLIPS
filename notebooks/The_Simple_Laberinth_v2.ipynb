{
 "nbformat": 4,
 "nbformat_minor": 0,
 "metadata": {
  "colab": {
   "name": "Laberinto_v2(varios agentes).ipynb",
   "provenance": []
  },
  "kernelspec": {
   "name": "python3",
   "display_name": "Python 3"
  },
  "language_info": {
   "name": "python"
  }
 },
 "cells": [
  {
   "cell_type": "markdown",
   "source": [
    "El siguiente bloque descarga todos los archivos necesarios para la correcta ejecución del cuaderno."
   ],
   "metadata": {
    "collapsed": false,
    "pycharm": {
     "name": "#%% md\n"
    }
   }
  },
  {
   "cell_type": "code",
   "execution_count": 1,
   "outputs": [],
   "source": [
    "%%capture\n",
    "!mkdir v002\n",
    "!mkdir images\n",
    "!wget 'https://github.com/cgarcia-UCO/AgentSurvival/raw/main/v002/Agent.py' -O v002/Agent.py\n",
    "!wget 'https://github.com/cgarcia-UCO/AgentSurvival/raw/main/v002/Enviroment.py' -O v002/Enviroment.py\n",
    "!wget 'https://github.com/cgarcia-UCO/AgentSurvival/raw/main/v002/__init__.py' -O v002/__init__.py\n",
    "!wget 'https://github.com/cgarcia-UCO/AgentSurvival/raw/main/v002/Enviroment_with_agents.py' -O v002/Enviroment_with_agents.py\n",
    "!wget 'https://github.com/cgarcia-UCO/AgentSurvival/raw/main/v002/InOut_Simple_Laberinth.py' -O v002/InOut_Simple_Laberinth.py\n",
    "!wget 'https://github.com/cgarcia-UCO/AgentSurvival/raw/main/images/PixelNoTomato.bmp' -O images/PixelNoTomato.bmp\n",
    "!wget 'https://github.com/cgarcia-UCO/AgentSurvival/raw/main/images/PixelTomato.bmp' -O images/PixelTomato.bmp\n",
    "!wget 'https://github.com/cgarcia-UCO/AgentSurvival/raw/main/images/face1_borders.bmp' -O images/face1_borders.bmp\n",
    "!wget 'https://raw.githubusercontent.com/juanvs00/AgentSurvival/main/rules_to_clips_v2.py' -O rules_to_clips_v2.py\n",
    "\n",
    "from v002 import *\n",
    "from rules_to_clips_v2 import *\n",
    "\n",
    "!pip install clipspy"
   ],
   "metadata": {
    "collapsed": false,
    "pycharm": {
     "name": "#%%\n"
    }
   }
  },
  {
   "cell_type": "markdown",
   "source": [
    "En el siguiente bloque se deben escribir las reglas CLIPS y el nombre del agente.\n",
    "El puzzle a resolver será que un agente intente escapar de un laberinto."
   ],
   "metadata": {
    "collapsed": false,
    "pycharm": {
     "name": "#%% md\n"
    }
   }
  },
  {
   "cell_type": "code",
   "source": [
    "# Creación del entorno CLIPS, no modificar\n",
    "env = clips.Environment()\n",
    "\n",
    "# TODO: Aquí debes escribir las reglas CLIPS\n",
    "rules = []\n",
    "rule1 = \"\"\"\n",
    "    (defrule giraDcha\n",
    "    (not (walls $? right $?))\n",
    "    ?h<-(pending_function_calls $?calls)\n",
    "    (not (available_object exit ?x))\n",
    "    =>\n",
    "    (retract ?h)\n",
    "    (assert (pending_function_calls $?calls \"self.turn_right()\" \"self.move_forward()\"))\n",
    "    )\"\"\"\n",
    "rules.append(rule1)\n",
    "rule2 = \"\"\"\n",
    "    (defrule haciaDelante\n",
    "    (walls $? right $?)\n",
    "    (not (walls $? front $?))\n",
    "    ?h<-(pending_function_calls $?calls)\n",
    "    (not (available_object exit ?x))\n",
    "    =>\n",
    "    (retract ?h)\n",
    "    (assert (pending_function_calls $?calls \"self.move_forward()\"))\n",
    "    )\"\"\"\n",
    "rules.append(rule2)\n",
    "rule3 = \"\"\"\n",
    "    (defrule giraIzqda\n",
    "    (walls $? right $?)\n",
    "    (walls $? front $?)\n",
    "    ?h<-(pending_function_calls $?calls)\n",
    "    (not (available_object exit ?x))\n",
    "    =>\n",
    "    (retract ?h)\n",
    "    (assert (pending_function_calls $?calls \"self.turn_left()\"))\n",
    "    )\"\"\"\n",
    "rules.append(rule3)\n",
    "rule4 = \"\"\"\n",
    "  (defrule salir\n",
    "  (available_object exit ?x)\n",
    "  ?h<-(pending_function_calls $?calls)\n",
    "  =>\n",
    "  (retract ?h)\n",
    "  (assert (pending_function_calls ?x))\n",
    "  )\n",
    "  \"\"\"\n",
    "rules.append(rule4)\n",
    "\n",
    "# Se definen las reglas en el entorno CLIPS, no modificar\n",
    "for i in rules:\n",
    "  env.build(i)\n",
    "env.reset()\n",
    "\n",
    "# TODO: Aquí debes escribir el nombre de tu agente\n",
    "agent_name = \"YO!\""
   ],
   "metadata": {
    "id": "r1Xp95Nh_R-5",
    "pycharm": {
     "name": "#%%\n"
    }
   },
   "execution_count": 5,
   "outputs": []
  },
  {
   "cell_type": "markdown",
   "source": [
    "El siguiente bloque es la función move del agente, no modificar."
   ],
   "metadata": {
    "collapsed": false,
    "pycharm": {
     "name": "#%% md\n"
    }
   }
  },
  {
   "cell_type": "code",
   "source": [
    "def move(self):\n",
    "  # Elimina los hechos que no necesita del entorno CLIPS\n",
    "  reset_environment(env)\n",
    "\n",
    "  # Recoge las paredes y objetos que detecta el agente\n",
    "  walls, objects = what_I_see(self)\n",
    "\n",
    "  # Crear el hecho de las paredes en el entorno CLIPS\n",
    "  set_walls(env,walls)\n",
    "\n",
    "  # Crear las posibles funciones accesibles al agente\n",
    "  for i in objects:\n",
    "        for key in i:\n",
    "            if key.endswith('_function'):\n",
    "                object_function = \"ob_\" + str(id(i)) + \"_funct\"\n",
    "                available_objects = {object_function: i[key]}\n",
    "                new_object = '(available_object ' + str(\n",
    "                    i['type']) + ' \"' + \"available_objects\" + \"['\" + object_function + \"']\" + '(self)\")'\n",
    "                env.assert_string(new_object)\n",
    "\n",
    "  # Ejecutar pasos de agente\n",
    "  env.run(1)\n",
    "\n",
    "  # Ejecutar las opciones en pending_function_calls\n",
    "  for i, fact in enumerate(env.facts()):\n",
    "    if str(fact).startswith(\"(pending_function_calls\"):\n",
    "      functions = str(fact)[:-1].split()[1:]\n",
    "      for j in functions:\n",
    "        eval(j.replace('\"',''))"
   ],
   "metadata": {
    "id": "WHv48WKr_Y5l",
    "pycharm": {
     "name": "#%%\n"
    }
   },
   "execution_count": 3,
   "outputs": []
  },
  {
   "cell_type": "markdown",
   "source": [
    "El siguiente bloque es la ejecución del puzzle.\n",
    "Puedes modificar el primer parámetro de la función InOut_Simple_Laberinth, que corresponde con el tamaño del escenario."
   ],
   "metadata": {
    "collapsed": false,
    "pycharm": {
     "name": "#%% md\n"
    }
   }
  },
  {
   "cell_type": "code",
   "execution_count": null,
   "outputs": [],
   "source": [
    "lb1 = InOut_Simple_Laberinth(7, plot_run='every epoch', move_protection=False)\n",
    "lb1.create_agent(agent_name, move)\n",
    "lb1.run()"
   ],
   "metadata": {
    "collapsed": false,
    "pycharm": {
     "name": "#%%\n",
     "is_executing": true
    }
   }
  },
  {
   "cell_type": "markdown",
   "source": [
    "El siguiente bloque es la herramienta para comprobar cuántas veces es tu agente capaz de escapar del laberinto.\n",
    "Puedes modificar la variable num_runs si lo deseas."
   ],
   "metadata": {
    "collapsed": false,
    "pycharm": {
     "name": "#%% md\n"
    }
   }
  },
  {
   "cell_type": "code",
   "execution_count": null,
   "outputs": [],
   "source": [
    "from tqdm import tqdm\n",
    "num_runs = 200\n",
    "num_success =  0\n",
    "\n",
    "for _ in tqdm(range(num_runs)):\n",
    "  lb1 = InOut_Simple_Laberinth(7, plot_run='never', move_protection=False)\n",
    "  lb1.create_agent(agent_name, move)\n",
    "  winner = lb1.run()\n",
    "\n",
    "  if winner is not None:\n",
    "    num_success += 1\n",
    "\n",
    "print(\"\\n\\nEncontraste la salida en\", num_success, \"ocasiones de\", num_runs)"
   ],
   "metadata": {
    "collapsed": false,
    "pycharm": {
     "name": "#%%\n"
    }
   }
  }
 ]
}
