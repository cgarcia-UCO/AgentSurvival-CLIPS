{
  "nbformat": 4,
  "nbformat_minor": 0,
  "metadata": {
    "colab": {
      "name": "Laberinto.ipynb",
      "provenance": []
    },
    "kernelspec": {
      "name": "python3",
      "display_name": "Python 3"
    },
    "language_info": {
      "name": "python"
    }
  },
  "cells": [
    {
      "cell_type": "markdown",
      "source": [
        "---\n",
        "##**¡Intenta escapar del laberinto!**\n",
        "---\n",
        "Autor: Juan Valverde Santiago y Carlos García Martínez\n",
        "\n",
        "# Bienvenido a este puzzle.\n",
        "\n",
        "El objetivo de este juego es que puedas programar un agente capaz de encontrar la salida de un laberinto cualquiera. Como detalle importante, la entrada y la salida del laberinto se encontrarán siempre pegados a un borde del laberinto.\n",
        "\n",
        "Para realizar esta tarea, sigue los pasos que se indican en cada sección.\n",
        "\n",
        "Pero primero, deberás guardarte una copia de este cuaderno, pues no puedes guardar cambios en el original."
      ],
      "metadata": {
        "id": "fOzzh5r8Qwqu"
      }
    },
    {
      "cell_type": "markdown",
      "source": [
        "# Descarga e importación\n",
        "\n",
        "El siguiente bloque obtiene los archivos necesarios para la correcta ejecución del cuaderno.\n",
        "\n",
        "Simplemente, ejecuta el bloque sin modificar nada."
      ],
      "metadata": {
        "id": "69TZgn8CRNGj"
      }
    },
    {
      "cell_type": "code",
      "execution_count": 1,
      "outputs": [],
      "source": [
        "%%capture\n",
        "!mkdir v002\n",
        "!mkdir images\n",
        "!wget 'https://github.com/cgarcia-UCO/AgentSurvival/raw/main/v002/Agent.py' -O v002/Agent.py\n",
        "!wget 'https://github.com/cgarcia-UCO/AgentSurvival/raw/main/v002/Enviroment.py' -O v002/Enviroment.py\n",
        "!wget 'https://github.com/cgarcia-UCO/AgentSurvival/raw/main/v002/__init__.py' -O v002/__init__.py\n",
        "!wget 'https://github.com/cgarcia-UCO/AgentSurvival/raw/main/v002/Enviroment_with_agents.py' -O v002/Enviroment_with_agents.py\n",
        "!wget 'https://github.com/cgarcia-UCO/AgentSurvival/raw/main/v002/InOut_Simple_Laberinth.py' -O v002/InOut_Simple_Laberinth.py\n",
        "!wget 'https://github.com/cgarcia-UCO/AgentSurvival/raw/main/images/PixelNoTomato.bmp' -O images/PixelNoTomato.bmp\n",
        "!wget 'https://github.com/cgarcia-UCO/AgentSurvival/raw/main/images/PixelTomato.bmp' -O images/PixelTomato.bmp\n",
        "!wget 'https://github.com/cgarcia-UCO/AgentSurvival/raw/main/images/face1_borders.bmp' -O images/face1_borders.bmp\n",
        "!wget 'https://github.com/cgarcia-UCO/AgentSurvival/raw/main/images/exit_image.jpg' -O images/exit_image.jpg\n",
        "!wget 'https://github.com/cgarcia-UCO/AgentSurvival-CLIPS/raw/main/rules_to_clips_v2.py' -O rules_to_clips_v2.py\n",
        "\n",
        "!pip install clipspy\n",
        "\n",
        "from v002 import *\n",
        "from rules_to_clips_v2 import *"
      ],
      "metadata": {
        "pycharm": {
          "name": "#%%\n"
        },
        "id": "YknpUUgmQvZ6"
      }
    },
    {
      "cell_type": "markdown",
      "source": [
        "# Escritura de las reglas\n",
        "\n",
        "En este bloque debes trabajar. Aquí es donde debes escribir las reglas CLIPS y el nombre del agente.\n",
        "\n",
        "Tu objetivo será crear un comportamiento para que el agente escape del laberinto.\n",
        "En caso de que no sepas cómo salir de un laberinto, te sugiero que lo busques en Google.\n",
        "No puedes modificar el nombre del vector, aunque sí puedes crear un mayor número de reglas.\n",
        "\n",
        "Las percepciones del agente son los muros que le rodean y los objetos que encuentra, las opciones que puedes usar siguen la siguiente forma:\n",
        "*   (walls \\$? front \\$?)\n",
        "*   (not (walls \\$? back \\$?))\n",
        "*   (available_object exit ?x)\n",
        "\n",
        "Siendo los posibles muros front, back, left y right, que corresponden con los muros de delante, detrás, izquierda y derecha, respectivamente.\n",
        "\n",
        "Y siendo los posibles objetos que encuentra el agente los siguientes:\n",
        "*   exit\n",
        "*   food type 1\n",
        "*   agent\n",
        "\n",
        "Por otro lado, las acciones que puede realizar el agente son las siguientes:\n",
        "*   \"self.move_forward()\"\n",
        "*   \"self.turn_left()\"\n",
        "*   \"self.turn_right()\"\n",
        "*   Funciones de objeto\n",
        "\n",
        "Estas acciones deben añadirse en el hecho \"pending_function_calls\", como puedes ver en las reglas de ejemplo. En la causa de la regla se introduce el hecho en una variable; mientras que, en el consecuente se elimina el hecho y se vuelve a crear añadiendo las acciones que quieres que realice tu agente. En cuanto a las funciones de objeto, puedes observar la regla 4 de ejemplo llamada \"salir\" en la que se realiza la función de salida del laberinto.\n",
        "\n",
        "Ten en cuenta que las acciones del agente consumen movimientos, y el número de movimientos está limitado.\n",
        "\n",
        "\n",
        "¡Suerte!"
      ],
      "metadata": {
        "id": "dC7GWCErRJo-"
      }
    },
    {
      "cell_type": "code",
      "source": [
        "# TODO: Aquí debes escribir las reglas CLIPS. Las siguientes son sólo un ejemplo de un agente que se mueve de forma aleatoria\n",
        "# y quizás, sale del laberinto\n",
        "rules = []\n",
        "rule1 = \"\"\"\n",
        "    (defrule giraDcha\n",
        "    ?h<-(pending_function_calls $?calls)\n",
        "    =>\n",
        "    (retract ?h)\n",
        "    (assert (pending_function_calls $?calls \"self.turn_right()\"))\n",
        "    )\"\"\"\n",
        "rules.append(rule1)\n",
        "rule2 = \"\"\"\n",
        "    (defrule haciaDelante\n",
        "    (not (walls $? front $?))\n",
        "    ?h<-(pending_function_calls $?calls)\n",
        "    =>\n",
        "    (retract ?h)\n",
        "    (assert (pending_function_calls $?calls \"self.move_forward()\" \"show_state()\"))\n",
        "    )\"\"\"\n",
        "rules.append(rule2)\n",
        "rule3 = \"\"\"\n",
        "    (defrule giraIzqda\n",
        "    ?h<-(pending_function_calls $?calls)\n",
        "    =>\n",
        "    (retract ?h)\n",
        "    (assert (pending_function_calls $?calls \"self.turn_left()\"))\n",
        "    )\"\"\"\n",
        "rules.append(rule3)\n",
        "rule4 = \"\"\"\n",
        "  (defrule salir\n",
        "  (available_object exit ?x)\n",
        "  ?h<-(pending_function_calls $?calls)\n",
        "  =>\n",
        "  (retract ?h)\n",
        "  (assert (pending_function_calls ?x))\n",
        "  )\n",
        "  \"\"\"\n",
        "rules.append(rule4)\n",
        "\n",
        "# Se definen las reglas en el entorno CLIPS, NO MODIFICAR\n",
        "env.clear()\n",
        "for i in rules:\n",
        "  env.build(i)\n",
        "env.reset()\n",
        "\n",
        "# TODO: Aquí debes escribir el nombre de tu agente\n",
        "agent_name = \"YO!\""
      ],
      "metadata": {
        "id": "r1Xp95Nh_R-5",
        "pycharm": {
          "name": "#%%\n"
        }
      },
      "execution_count": 2,
      "outputs": []
    },
    {
      "cell_type": "markdown",
      "source": [
        "# Ejecución del puzzle\n",
        "\n",
        "Ha llegado el momento de comprobar si tu agente es capaz de escapar del laberinto.\n",
        "\n",
        "En principio, no debes modificar nada. Aunque puedes modificar algún parámetro de la función InOut_Simple_Laberinth, por ejemplo el primer parámetro es el tamaño del escenario."
      ],
      "metadata": {
        "id": "GLfo-9WOT8Ch"
      }
    },
    {
      "cell_type": "code",
      "execution_count": null,
      "outputs": [],
      "source": [
        "lb1 = InOut_Simple_Laberinth(7, plot_run='always', move_protection=False)\n",
        "lb1.create_agent(agent_name, move)\n",
        "lb1.run()"
      ],
      "metadata": {
        "pycharm": {
          "name": "#%%\n",
          "is_executing": true
        },
        "id": "SQ2xAtndQvZ-"
      }
    },
    {
      "cell_type": "markdown",
      "source": [
        "# ¿Es realmente bueno el comportamiento de tu agente?\n",
        "\n",
        "En el siguiente bloque puedes comprobar cuántas veces es tu agente capaz de escapar del laberinto de un total de ejecuciones.\n",
        "\n",
        "En principio, no debes modificar nada. Aunque puedes puedes modificar el número de ejecucuciones totales (la variable num_runs)."
      ],
      "metadata": {
        "id": "vtyfNiIlUARu"
      }
    },
    {
      "cell_type": "code",
      "execution_count": null,
      "outputs": [],
      "source": [
        "from tqdm import tqdm\n",
        "num_runs = 10\n",
        "num_success =  0\n",
        "\n",
        "for _ in tqdm(range(num_runs)):\n",
        "  lb1 = InOut_Simple_Laberinth(7, plot_run='never', move_protection=False)\n",
        "  lb1.create_agent(agent_name, move)\n",
        "  winner = lb1.run()\n",
        "\n",
        "  if winner is not None:\n",
        "    num_success += 1\n",
        "\n",
        "print(\"\\n\\nEncontraste la salida en\", num_success, \"ocasiones de\", num_runs)"
      ],
      "metadata": {
        "pycharm": {
          "name": "#%%\n"
        },
        "id": "CyQFf4fpQvZ-"
      }
    }
  ]
}
