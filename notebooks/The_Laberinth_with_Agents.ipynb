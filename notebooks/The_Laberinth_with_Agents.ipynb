{
  "nbformat": 4,
  "nbformat_minor": 0,
  "metadata": {
    "colab": {
      "name": "Laberinto_v3(varios_comportamientos).ipynb",
      "provenance": [],
      "collapsed_sections": []
    },
    "kernelspec": {
      "name": "python3",
      "display_name": "Python 3"
    },
    "language_info": {
      "name": "python"
    }
  },
  "cells": [
    {
      "cell_type": "markdown",
      "source": [
        "---\n",
        "##**¡Los Juegos del Hambre!**\n",
        "---\n",
        "Autor: Juan Valverde Santiago\n",
        "\n",
        "# Bienvenido a este puzzle.\n",
        "\n",
        "En este juego, podrás programar el comportamiento de dos tipos de agente y verlos reflejados en una batalla entre los dos tipos. Al final, sólo quedará un agente ganador.\n",
        "\n",
        "Para realizar esta tarea, sigue los pasos que se indican en cada sección.\n",
        "\n",
        "Pero primero, deberás guardarte una copia de este cuaderno, pues no puedes guardar cambios en el original."
      ],
      "metadata": {
        "collapsed": false,
        "pycharm": {
          "name": "#%% md\n"
        },
        "id": "xA5WURkqZMm8"
      }
    },
    {
      "cell_type": "markdown",
      "source": [
        "# Descarga e importación\n",
        "\n",
        "El siguiente bloque obtiene los archivos necesarios para la correcta ejecución del cuaderno.\n",
        "\n",
        "Simplemente, ejecuta el bloque sin modificar nada."
      ],
      "metadata": {
        "id": "DH_VG1mDZTQF"
      }
    },
    {
      "cell_type": "code",
      "execution_count": 1,
      "outputs": [],
      "source": [
        "%%capture\n",
        "!mkdir v002\n",
        "!mkdir images\n",
        "!wget 'https://github.com/cgarcia-UCO/AgentSurvival/raw/main/v002/Agent.py' -O v002/Agent.py\n",
        "!wget 'https://github.com/cgarcia-UCO/AgentSurvival/raw/main/v002/Enviroment.py' -O v002/Enviroment.py\n",
        "!wget 'https://github.com/cgarcia-UCO/AgentSurvival/raw/main/v002/__init__.py' -O v002/__init__.py\n",
        "!wget 'https://github.com/cgarcia-UCO/AgentSurvival/raw/main/v002/Enviroment_with_agents.py' -O v002/Enviroment_with_agents.py\n",
        "!wget 'https://github.com/cgarcia-UCO/AgentSurvival/raw/main/v002/InOut_Simple_Laberinth.py' -O v002/InOut_Simple_Laberinth.py\n",
        "!wget 'https://github.com/cgarcia-UCO/AgentSurvival/raw/main/images/PixelNoTomato.bmp' -O images/PixelNoTomato.bmp\n",
        "!wget 'https://github.com/cgarcia-UCO/AgentSurvival/raw/main/images/PixelTomato.bmp' -O images/PixelTomato.bmp\n",
        "!wget 'https://github.com/cgarcia-UCO/AgentSurvival/raw/main/images/face1_borders.bmp' -O images/face1_borders.bmp\n",
        "!wget 'https://github.com/cgarcia-UCO/AgentSurvival-CLIPS/raw/main/rules_to_clips_v3.py' -O rules_to_clips_v3.py\n",
        "\n",
        "!pip install clipspy\n",
        "\n",
        "from v002 import *\n",
        "from rules_to_clips_v3 import *"
      ],
      "metadata": {
        "pycharm": {
          "name": "#%%\n"
        },
        "id": "EreMUD8iZMm-"
      }
    },
    {
      "cell_type": "markdown",
      "source": [
        "# Escritura de las reglas\n",
        "\n",
        "En este bloque debes trabajar. Aquí es donde debes escribir las reglas CLIPS y el nombre del agente.\n",
        "\n",
        "Tu objetivo será crear un comportamiento para que los agentes peleen en un laberinto. No modifiques nombres de variables, céntrate en escribir las reglas que desees en la variable file.\n",
        "\n",
        "Las percepciones del agente son los muros que le rodean y los objetos que encuentra, las opciones que puedes usar siguen la siguiente forma:\n",
        "*   (walls \\$? front \\$?)\n",
        "*   (not (walls \\$? back \\$?))\n",
        "*   (available_object exit ?x)\n",
        "\n",
        "Siendo los posibles muros front, back, left y right, que corresponden con los muros de delante, detrás, izquierda y derecha, respectivamente.\n",
        "\n",
        "Y siendo los posibles objetos que encuentra el agente los siguientes:\n",
        "*   exit\n",
        "*   food type 1\n",
        "*   agent\n",
        "\n",
        "Por otro lado, las acciones que puede realizar el agente son las siguientes:\n",
        "*   \"self.move_forward()\"\n",
        "*   \"self.turn_left()\"\n",
        "*   \"self.turn_right()\"\n",
        "*   Funciones de objeto\n",
        "\n",
        "Estas acciones deben añadirse en el hecho \"pending_function_calls\", como puedes ver en las reglas de ejemplo. En la causa de la regla se introduce el hecho en una variable; mientras que, en el consecuente se elimina el hecho y se vuelve a crear añadiendo las acciones que quieres que realice tu agente. En cuanto a las funciones de objeto, puedes observar la regla 4 de ejemplo llamada \"salir\" en la que se realiza la función de salida del laberinto.\n",
        "\n",
        "Ten en cuenta que las acciones del agente consumen movimientos, y el número de movimientos está limitado.\n",
        "\n",
        "\n",
        "Por último, también debes tener en cuenta el movimiento del agente modificando el hecho pos, que refiere a la posición del agente; y el hecho ori, que refiere hacia donde mira el agente. Lo que debes saber para resolver este problema es la estructura que usan estos datos:\n",
        "*   (pos 0 0)\n",
        "*   (ori 1 0)\n",
        "\n",
        "Al comenzar el puzzle, la posición del agente(sea cuál sea) será la posición (0,0). En este juego la primera coordenada se refiere a la posición del eje Y y la segunda coordenada al eje X.\n",
        "\n",
        "En cuanto a la orientación del agente pueden ser las siguientes:\n",
        "*   Hacia arriba ---> (1, 0)\n",
        "*   Hacia abajo ---> (-1, 0)\n",
        "*   Hacia la izquierda ---> (0, -1)\n",
        "*   Hacia la derecha ---> (0, 1)\n",
        "\n",
        "Conociendo estos datos, debes introducir las operaciones para que el agente tenga sus hechos de posición y orientación correctos en todo momento. Esto es importante porque cuando el agente pasé por la misma posición 5 veces, se activará en el entorno el hecho (caution_loop), usado en la regla de ejemplo llamada \"bucle\", que también puedes usar para programar el comportamiento del agente.\n",
        "\n",
        "\n",
        "¡Suerte!"
      ],
      "metadata": {
        "collapsed": false,
        "pycharm": {
          "name": "#%% md\n"
        },
        "id": "IeSo1WgWZMnA"
      }
    },
    {
      "cell_type": "code",
      "execution_count": 2,
      "outputs": [],
      "source": [
        "# TODO: Aquí debes escribir las reglas CLIPS para los agentes Runners\n",
        "\n",
        "file = \"\"\"\n",
        "    (defrule girarIzqda\n",
        "    ?h_pos<-(pos ?p1 ?p2)\n",
        "    ?h_ori<-(ori ?v1 ?v2)\n",
        "    ?h<-(pending_function_calls $?calls)\n",
        "    =>\n",
        "    (retract ?h ?h_pos ?h_ori)\n",
        "    (assert (pos (+ ?p1 ?v2) (- ?p2 ?v1)))\n",
        "    (assert (ori ?v2 (* -1 ?v1)))\n",
        "    (assert (pending_function_calls $?calls \"self.turn_left()\"))\n",
        "    )\n",
        "\n",
        "    (defrule haciaDelante\n",
        "    (not (walls $? front $?))\n",
        "    ?h_pos<-(pos ?p1 ?p2)\n",
        "    ?h_ori<-(ori ?v1 ?v2)\n",
        "    ?h<-(pending_function_calls $?calls)\n",
        "    =>\n",
        "    (retract ?h ?h_pos ?h_ori)\n",
        "    (assert (pos (+ ?p1 ?v1) (+ ?p2 ?v2)))\n",
        "    (assert (ori ?v1 ?v2))\n",
        "    (assert (pending_function_calls $?calls \"self.move_forward()\"))\n",
        "    )\n",
        "\n",
        "    (defrule girarDcha\n",
        "    ?h_pos<-(pos ?p1 ?p2)\n",
        "    ?h_ori<-(ori ?v1 ?v2)\n",
        "    ?h<-(pending_function_calls $?calls)\n",
        "    =>\n",
        "    (retract ?h ?h_pos ?h_ori)\n",
        "    (assert (pos (- ?p1 ?v2) (+ ?p2 ?v1)))\n",
        "    (assert (ori (* -1 ?v2) ?v1))\n",
        "    (assert (pending_function_calls $?calls \"self.turn_right()\"))\n",
        "    )\n",
        "\n",
        "    (defrule comer\n",
        "    (available_object food type 1 ?y)\n",
        "    ?h<-(pending_function_calls $?calls)\n",
        "    =>\n",
        "    (retract ?h)\n",
        "    (assert (pending_function_calls ?y))\n",
        "    )\n",
        "\"\"\"\n",
        "\n",
        "with open(\"rules_run.CLP\", \"w\") as txt:\n",
        "    print(format(file), file=txt)\n",
        "\n",
        "rules_run = \"rules_run.CLP\""
      ],
      "metadata": {
        "pycharm": {
          "name": "#%%\n"
        },
        "id": "ClTqzLbTZMnB"
      }
    },
    {
      "cell_type": "markdown",
      "source": [
        "El siguiente bloque es un duplicado del anterior, en este puedes crear un diferente comportamiento para que haya dos tipos de agentes.\n",
        "En el caso de que no quieras utilizar este segundo tipo de comportamiento, debes comentar aquellas líneas que tengan variables relativas a los agentes Punchers."
      ],
      "metadata": {
        "collapsed": false,
        "pycharm": {
          "name": "#%% md\n"
        },
        "id": "QaqssNsXZMnB"
      }
    },
    {
      "cell_type": "code",
      "execution_count": 3,
      "outputs": [],
      "source": [
        "# TODO: Aquí debes escribir las reglas CLIPS para los agentes Punchers\n",
        "file = \"\"\"\n",
        "    (defrule giraDcha\n",
        "    ?h<-(pending_function_calls $?calls)\n",
        "    ?h_pos<-(pos ?p1 ?p2)\n",
        "    ?h_ori<-(ori ?v1 ?v2)\n",
        "    =>\n",
        "    (retract ?h ?h_ori ?h_pos)\n",
        "    (assert (pos (- ?p1 ?v2) (+ ?p2 ?v1)))\n",
        "    (assert (ori (* -1 ?v2) ?v1))\n",
        "    (assert (pending_function_calls $?calls \"self.turn_right()\"))\n",
        "    )\n",
        "\n",
        "    (defrule haciaDelante\n",
        "    (not (walls $? front $?))\n",
        "    ?h_pos<-(pos ?p1 ?p2)\n",
        "    ?h_ori<-(ori ?v1 ?v2)\n",
        "    ?h<-(pending_function_calls $?calls)\n",
        "    =>\n",
        "    (retract ?h ?h_pos ?h_ori)\n",
        "    (assert (pos (+ ?p1 ?v1) (+ ?p2 ?v2)))\n",
        "    (assert (ori ?v1 ?v2))\n",
        "    (assert (pending_function_calls $?calls \"self.move_forward()\"))\n",
        "    )\n",
        "\n",
        "    (defrule giraIzqda\n",
        "    ?h_pos<-(pos ?p1 ?p2)\n",
        "    ?h_ori<-(ori ?v1 ?v2)\n",
        "    ?h<-(pending_function_calls $?calls)\n",
        "    =>\n",
        "    (retract ?h ?h_pos ?h_ori)\n",
        "    (assert (pos ?p1 ?p2))\n",
        "    (assert (ori ?v2 (* -1 ?v1)))\n",
        "    (assert (pending_function_calls $?calls \"self.turn_left()\"))\n",
        "    )\n",
        "\n",
        "    (defrule golpear\n",
        "    (available_object agent ?z)\n",
        "    ?h<-(pending_function_calls $?calls)\n",
        "    =>\n",
        "    (retract ?h)\n",
        "    (assert (pending_function_calls ?z))\n",
        "    )\"\"\"\n",
        "\n",
        "with open(\"rules_punch.CLP\", \"w\") as txt:\n",
        "    print(format(file), file=txt)\n",
        "\n",
        "rules_punch = \"rules_punch.CLP\""
      ],
      "metadata": {
        "pycharm": {
          "name": "#%%\n"
        },
        "id": "rpw00SYgZMnB"
      }
    },
    {
      "cell_type": "markdown",
      "source": [
        "# Funciones move\n",
        "\n",
        "Los siguientes bloques corresponden con las funciones move de los dos tipos de agente. Simplemente, ejecuta los bloques de código.\n",
        "\n",
        "**¡NO DEBES MODIFICARLOS!**"
      ],
      "metadata": {
        "id": "Mhdb6jXddXj6"
      }
    },
    {
      "cell_type": "markdown",
      "source": [
        "En el siguiente bloque se inicializan los tipos de agentes que vayas a utilizar."
      ],
      "metadata": {
        "collapsed": false,
        "pycharm": {
          "name": "#%% md\n"
        },
        "id": "mHv03LgqZMnC"
      }
    },
    {
      "cell_type": "code",
      "execution_count": 4,
      "outputs": [],
      "source": [
        "runner = Agent_CLIPS(rules_run)\n",
        "puncher = Agent_CLIPS(rules_punch)"
      ],
      "metadata": {
        "pycharm": {
          "name": "#%%\n"
        },
        "id": "Tyfhu5dTZMnC"
      }
    },
    {
      "cell_type": "markdown",
      "source": [
        "El siguiente bloque son las funciones move de los agentes, no modificar."
      ],
      "metadata": {
        "collapsed": false,
        "pycharm": {
          "name": "#%% md\n"
        },
        "id": "UJ7y3PwTZMnC"
      }
    },
    {
      "cell_type": "code",
      "execution_count": 5,
      "outputs": [],
      "source": [
        "def move_run(self, available_objects=None):\n",
        "\n",
        "    # Actualizar el entorno CLIPS y obtener las interacciones del agente\n",
        "    walls, objects = runner.agent_context(self)\n",
        "\n",
        "    # Obtener las funciones y los objetos gracias al algoritmo\n",
        "    functions, available_objects = algorithm(objects, runner.env, available_objects)\n",
        "\n",
        "    # Ejecutar las funciones en pending_function_calls\n",
        "    for j in functions:\n",
        "        j = j.replace('\"','')\n",
        "        eval(j)\n",
        "\n",
        "def move_punch(self, available_objects=None):\n",
        "\n",
        "    # Actualizar el entorno CLIPS y obtener las interacciones del agente\n",
        "    walls, objetos = puncher.agent_context(self)\n",
        "\n",
        "    # Obtener las funciones y los objetos gracias al algoritmo\n",
        "    functions, available_objects = algorithm(objetos, puncher.env, available_objects)\n",
        "\n",
        "    # Ejecutar las funciones en pending_function_calls\n",
        "    for j in functions:\n",
        "        j = j.replace('\"','')\n",
        "        eval(j)"
      ],
      "metadata": {
        "pycharm": {
          "name": "#%%\n"
        },
        "id": "G5zeSaVGZMnD"
      }
    },
    {
      "cell_type": "markdown",
      "source": [
        "# Ejecución del puzzle\n",
        "\n",
        "Ha llegado el momento de ejecutar el puzzle para comprobar el comportamiento de los dos tipos de agente.\n",
        "\n",
        "En principio, no debes modificar nada. Aunque puedes modificar algún parámetro de la función Enviroment_with_agents, por ejemplo el primer parámetro es el tamaño del escenario.\n",
        "\n",
        "También puedes modificar las variables del principio del bloque, que corresponden al número de agentes y la vida que tienen al comienzo del juego."
      ],
      "metadata": {
        "collapsed": false,
        "pycharm": {
          "name": "#%% md\n"
        },
        "id": "L_4mFQyOZMnD"
      }
    },
    {
      "cell_type": "code",
      "execution_count": null,
      "outputs": [],
      "source": [
        "num_agents = 8\n",
        "hp = 150\n",
        "\n",
        "reset_position(runner.env, runner.memory)\n",
        "reset_position(puncher.env, puncher.memory)\n",
        "\n",
        "lb1 = Enviroment_with_agents(10, max_moves_per_turn=7,\n",
        "                                 plot_run='every epoch',\n",
        "                                 move_protection=False, remove_walls_prob=0.5)\n",
        "for i in range(int(num_agents/2)):\n",
        "    lb1.create_agent('Runner' + str(i+1), move_run, life=hp)\n",
        "    lb1.create_agent('Puncher' + str(i+1), move_punch, life=hp)\n",
        "\n",
        "lb1.run()"
      ],
      "metadata": {
        "pycharm": {
          "name": "#%%\n",
          "is_executing": true
        },
        "id": "0HFprsf9ZMnD"
      }
    }
  ]
}
