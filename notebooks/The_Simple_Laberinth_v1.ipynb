{
  "cells": [
    {
      "cell_type": "markdown",
      "source": [
        "---\n",
        "##**¡Intenta escapar del laberinto!**\n",
        "---\n",
        "Autor: Juan Valverde Santiago\n",
        "\n",
        "# Bienvenido a este puzzle.\n",
        "\n",
        "El objetivo de este juego es que puedas programar un agente capaz de encontrar la salida de un laberinto cualquiera. Como detalle importante, la entrada y la salida del laberinto se encontrarán siempre pegados a un borde del laberinto.\n",
        "\n",
        "Para realizar esta tarea, sigue los pasos que se indican en cada sección.\n",
        "\n",
        "Pero primero, deberás guardarte una copia de este cuaderno, pues no puedes guardar cambios en el original."
      ],
      "metadata": {
        "id": "TPZG89oCFGNB"
      }
    },
    {
      "cell_type": "markdown",
      "source": [
        "# Descarga e importación\n",
        "\n",
        "El siguiente bloque obtiene los archivos necesarios para la correcta ejecución del cuaderno.\n",
        "\n",
        "Simplemente, ejecuta el bloque sin modificar nada."
      ],
      "metadata": {
        "id": "ZCO7rsAsGth7"
      }
    },
    {
      "cell_type": "code",
      "execution_count": 1,
      "outputs": [],
      "source": [
        "%%capture\n",
        "!mkdir v002\n",
        "!mkdir images\n",
        "!wget 'https://github.com/cgarcia-UCO/AgentSurvival/raw/main/v002/Agent.py' -O v002/Agent.py\n",
        "!wget 'https://github.com/cgarcia-UCO/AgentSurvival/raw/main/v002/Enviroment.py' -O v002/Enviroment.py\n",
        "!wget 'https://github.com/cgarcia-UCO/AgentSurvival/raw/main/v002/__init__.py' -O v002/__init__.py\n",
        "!wget 'https://github.com/cgarcia-UCO/AgentSurvival/raw/main/v002/Enviroment_with_agents.py' -O v002/Enviroment_with_agents.py\n",
        "!wget 'https://github.com/cgarcia-UCO/AgentSurvival/raw/main/v002/InOut_Simple_Laberinth.py' -O v002/InOut_Simple_Laberinth.py\n",
        "!wget 'https://github.com/cgarcia-UCO/AgentSurvival/raw/main/images/PixelNoTomato.bmp' -O images/PixelNoTomato.bmp\n",
        "!wget 'https://github.com/cgarcia-UCO/AgentSurvival/raw/main/images/PixelTomato.bmp' -O images/PixelTomato.bmp\n",
        "!wget 'https://github.com/cgarcia-UCO/AgentSurvival/raw/main/images/face1_borders.bmp' -O images/face1_borders.bmp\n",
        "!wget 'https://raw.githubusercontent.com/juanvs00/AgentSurvival/main/rules_to_clips_v1.py' -O rules_to_clips_v1.py\n",
        "\n",
        "!pip install clipspy\n",
        "\n",
        "from v002 import *\n",
        "from rules_to_clips_v1 import *"
      ],
      "metadata": {
        "pycharm": {
          "name": "#%%\n"
        },
        "id": "CRItrKV-E8hN"
      }
    },
    {
      "cell_type": "markdown",
      "source": [
        "# Escritura de las reglas\n",
        "\n",
        "En este bloque debes trabajar. Aquí es donde debes escribir las reglas CLIPS y el nombre del agente.\n",
        "\n",
        "Tu objetivo será crear un comportamiento para que el agente escape del laberinto. No puedes modificar el nombre del vector, aunque sí puedes crear un mayor número de reglas.\n",
        "\n",
        "Las percepciones del agente son los muros que le rodean, las opciones que puedes usar siguen la siguiente forma:\n",
        "*   (muros (fr 1))\n",
        "*   (muros (izq 0))\n",
        "\n",
        "Siendo los posibles muros fr, det, izq y der, que corresponden con los muros de delante, detrás, izquierda y derecha, respectivamente. Los números detrás del muro indican si el muro referido es detectado (número 1) o no lo es (número 0).\n",
        "\n",
        "Por otro lado, las acciones que puede realizar el agente son las siguientes:\n",
        "*   move_forward\n",
        "*   turn_left\n",
        "*   turn_right\n",
        "\n",
        "\n",
        "Ten en cuenta que estas acciones consumen movimientos, y el número de movimientos está limitado.\n",
        "\n",
        "\n",
        "¡Suerte!"
      ],
      "metadata": {
        "id": "imBYqPo1HPTE"
      }
    },
    {
      "cell_type": "code",
      "execution_count": 2,
      "outputs": [],
      "source": [
        "# TODO: Aquí debes escribir las reglas CLIPS\n",
        "rules = []\n",
        "rule1 = \"\"\"\n",
        "    (defrule giraDcha\n",
        "    (muros (der 0))\n",
        "    =>\n",
        "    (assert (turn_right))\n",
        "    (assert (move_forward))\n",
        "    )\"\"\"\n",
        "rules.append(rule1)\n",
        "rule2 = \"\"\"\n",
        "    (defrule haciaDelante\n",
        "    (muros (der 1))\n",
        "    (muros (fr 0))\n",
        "    =>\n",
        "    (assert (move_forward))\n",
        "    )\"\"\"\n",
        "rules.append(rule2)\n",
        "rule3 = \"\"\"\n",
        "    (defrule giraIzqda\n",
        "    (muros (der 1))\n",
        "    (muros (fr 1))\n",
        "    =>\n",
        "    (assert (turn_left))\n",
        "    )\"\"\"\n",
        "rules.append(rule3)\n",
        "\n",
        "# TODO: Aquí debes escribir el nombre de tu agente\n",
        "agent_name = 'YO!'"
      ],
      "metadata": {
        "pycharm": {
          "name": "#%%\n"
        },
        "id": "jb-TujeLE8hP"
      }
    },
    {
      "cell_type": "markdown",
      "source": [
        "# Función move\n",
        "\n",
        "El siguiente bloque es la función move del agente. Simplemente, ejecuta el bloque de código.\n",
        "\n",
        "**¡NO DEBES MODIFICARLO!**"
      ],
      "metadata": {
        "id": "Ntxa31FcH75s"
      }
    },
    {
      "cell_type": "code",
      "execution_count": 3,
      "outputs": [],
      "source": [
        "def move(self):\n",
        "  # Comprobar que percepciones tiene el agente\n",
        "  walls, objects = what_I_see(self)\n",
        "\n",
        "  # Comprueba si el agente tiene la posibilidad de salir entre sus objetos\n",
        "  exit_if_possible(self,objects)\n",
        "\n",
        "  # Crear el entorno CLIPS con las reglas escritas por el usuario y las percepciones del agente\n",
        "  rules_to_CLIPS(self,rules,walls)"
      ],
      "metadata": {
        "pycharm": {
          "name": "#%%\n"
        },
        "id": "q8YpUHmQE8hQ"
      }
    },
    {
      "cell_type": "markdown",
      "source": [
        "# Ejecución del puzzle\n",
        "\n",
        "Ha llegado el momento de comprobar si tu agente es capaz de escapar del laberinto.\n",
        "\n",
        "En principio, no debes modificar nada. Aunque puedes modificar algún parámetro de la función InOut_Simple_Laberinth, por ejemplo el primer parámetro es el tamaño del escenario."
      ],
      "metadata": {
        "id": "J-6QGC2gIe1g"
      }
    },
    {
      "cell_type": "code",
      "execution_count": null,
      "outputs": [],
      "source": [
        "lb1 = InOut_Simple_Laberinth(7, plot_run='always', move_protection=False)\n",
        "lb1.create_agent(agent_name, move)\n",
        "lb1.run()"
      ],
      "metadata": {
        "pycharm": {
          "name": "#%%\n",
          "is_executing": true
        },
        "id": "IyqmSRbnE8hQ"
      }
    },
    {
      "cell_type": "markdown",
      "source": [
        "# ¿Es realmente bueno el comportamiento de tu agente?\n",
        "\n",
        "En el siguiente bloque puedes comprobar cuántas veces es tu agente capaz de escapar del laberinto de un total de ejecuciones.\n",
        "\n",
        "En principio, no debes modificar nada. Aunque puedes puedes modificar el número de ejecucuciones totales (la variable num_runs)."
      ],
      "metadata": {
        "id": "ehdk1W7YPvFP"
      }
    },
    {
      "cell_type": "code",
      "execution_count": null,
      "outputs": [],
      "source": [
        "from tqdm import tqdm\n",
        "num_runs = 200\n",
        "num_success =  0\n",
        "\n",
        "for _ in tqdm(range(num_runs)):\n",
        "  lb1 = InOut_Simple_Laberinth(7, plot_run='never', move_protection=False)\n",
        "  lb1.create_agent(agent_name, move)\n",
        "  winner = lb1.run()\n",
        "\n",
        "  if winner is not None:\n",
        "    num_success += 1\n",
        "\n",
        "print(\"\\n\\nEncontraste la salida en\", num_success, \"ocasiones de\", num_runs)"
      ],
      "metadata": {
        "pycharm": {
          "name": "#%%\n",
          "is_executing": true
        },
        "id": "XcNOil58E8hR"
      }
    }
  ],
  "metadata": {
    "kernelspec": {
      "display_name": "Python 3",
      "language": "python",
      "name": "python3"
    },
    "language_info": {
      "codemirror_mode": {
        "name": "ipython",
        "version": 2
      },
      "file_extension": ".py",
      "mimetype": "text/x-python",
      "name": "python",
      "nbconvert_exporter": "python",
      "pygments_lexer": "ipython2",
      "version": "2.7.6"
    },
    "colab": {
      "provenance": [],
      "toc_visible": true
    }
  },
  "nbformat": 4,
  "nbformat_minor": 0
}