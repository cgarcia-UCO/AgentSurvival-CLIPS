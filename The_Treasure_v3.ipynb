{
 "cells": [
  {
   "cell_type": "markdown",
   "source": [
    "El siguiente bloque descarga todos los archivos necesarios para la correcta ejecución del cuaderno."
   ],
   "metadata": {
    "collapsed": false,
    "pycharm": {
     "name": "#%% md\n"
    }
   }
  },
  {
   "cell_type": "code",
   "execution_count": 1,
   "outputs": [],
   "source": [
    "%%capture\n",
    "!mkdir v002\n",
    "!mkdir images\n",
    "!wget 'https://github.com/cgarcia-UCO/AgentSurvival/raw/main/v002/Agent.py' -O v002/Agent.py\n",
    "!wget 'https://github.com/cgarcia-UCO/AgentSurvival/raw/main/v002/Enviroment.py' -O v002/Enviroment.py\n",
    "!wget 'https://github.com/cgarcia-UCO/AgentSurvival/raw/main/v002/__init__.py' -O v002/__init__.py\n",
    "!wget 'https://github.com/cgarcia-UCO/AgentSurvival/raw/main/v002/Enviroment_with_agents.py' -O v002/Enviroment_with_agents.py\n",
    "!wget 'https://github.com/cgarcia-UCO/AgentSurvival/raw/main/v002/InOut_Simple_Laberinth.py' -O v002/InOut_Simple_Laberinth.py\n",
    "!wget 'https://github.com/cgarcia-UCO/AgentSurvival/raw/main/images/PixelNoTomato.bmp' -O images/PixelNoTomato.bmp\n",
    "!wget 'https://github.com/cgarcia-UCO/AgentSurvival/raw/main/images/PixelTomato.bmp' -O images/PixelTomato.bmp\n",
    "!wget 'https://github.com/cgarcia-UCO/AgentSurvival/raw/main/images/face1_borders.bmp' -O images/face1_borders.bmp\n",
    "!wget 'https://raw.githubusercontent.com/juanvs00/AgentSurvival/main/rules_to_clips_v3.py' -O rules_to_clips_v3.py\n",
    "\n",
    "from v002 import *\n",
    "from rules_to_clips_v3 import *\n",
    "\n",
    "!pip install clipspy"
   ],
   "metadata": {
    "collapsed": false,
    "pycharm": {
     "name": "#%%\n"
    }
   }
  },
  {
   "cell_type": "markdown",
   "source": [
    "En el siguiente bloque se deben escribir las reglas CLIPS y el nombre del agente.\n",
    "El puzzle a resolver será que un agente busque una salida en un escenario sin muros."
   ],
   "metadata": {
    "collapsed": false,
    "pycharm": {
     "name": "#%% md\n"
    }
   }
  },
  {
   "cell_type": "code",
   "execution_count": 2,
   "outputs": [],
   "source": [
    "# TODO: Aquí debes escribir las reglas CLIPS\n",
    "rules = []\n",
    "rule1 = \"\"\"\n",
    "    (defrule giraDcha\n",
    "    (not (walls $? right $?))\n",
    "    ?h<-(pending_function_calls $?calls)\n",
    "    (not (available_object exit ?x))\n",
    "    (not (caution_loop))\n",
    "    =>\n",
    "    (retract ?h)\n",
    "    (assert (pending_function_calls $?calls \"self.turn_right()\" \"self.move_forward()\"))\n",
    "    )\"\"\"\n",
    "rules.append(rule1)\n",
    "rule2 = \"\"\"\n",
    "    (defrule haciaDelante\n",
    "    (walls $? right $?)\n",
    "    (not (walls $? front $?))\n",
    "    ?h<-(pending_function_calls $?calls)\n",
    "    (not (available_object exit ?x))\n",
    "    (not (caution_loop))\n",
    "    =>\n",
    "    (retract ?h)\n",
    "    (assert (pending_function_calls $?calls \"self.move_forward()\"))\n",
    "    )\"\"\"\n",
    "rules.append(rule2)\n",
    "rule3 = \"\"\"\n",
    "    (defrule giraIzqda\n",
    "    (walls $? right $?)\n",
    "    (walls $? front $?)\n",
    "    ?h<-(pending_function_calls $?calls)\n",
    "    (not (available_object exit ?x))\n",
    "    (not (caution_loop))\n",
    "    =>\n",
    "    (retract ?h)\n",
    "    (assert (pending_function_calls $?calls \"self.turn_left()\"))\n",
    "    )\"\"\"\n",
    "rules.append(rule3)\n",
    "rule4 = \"\"\"\n",
    "  (defrule salir\n",
    "  (available_object exit ?x)\n",
    "  ?h<-(pending_function_calls $?calls)\n",
    "  =>\n",
    "  (retract ?h)\n",
    "  (assert (pending_function_calls ?x))\n",
    "  )\"\"\"\n",
    "rules.append(rule4)\n",
    "rule5 = \"\"\"\n",
    "  (defrule bucle\n",
    "  ?l<-(caution_loop)\n",
    "  ?h<-(pending_function_calls $?calls)\n",
    "  =>\n",
    "  (retract ?l)\n",
    "  (retract ?h)\n",
    "  (assert (pending_function_calls $?calls \"self.turn_left()\" \"self.move_forward()\"))\n",
    "  )\"\"\"\n",
    "rules.append(rule5)\n",
    "\n",
    "# TODO: Aquí debes escribir el nombre de tu agente\n",
    "agent_name = \"YO!\""
   ],
   "metadata": {
    "collapsed": false,
    "pycharm": {
     "name": "#%%\n"
    }
   }
  },
  {
   "cell_type": "markdown",
   "source": [
    "En el siguiente bloque se inicializan los tipos de agentes que vayas a utilizar."
   ],
   "metadata": {
    "collapsed": false,
    "pycharm": {
     "name": "#%% md\n"
    }
   }
  },
  {
   "cell_type": "code",
   "execution_count": 3,
   "outputs": [],
   "source": [
    "runner = Agent_CLIPS(rules)"
   ],
   "metadata": {
    "collapsed": false,
    "pycharm": {
     "name": "#%%\n"
    }
   }
  },
  {
   "cell_type": "markdown",
   "source": [
    "El siguiente bloque es la función move del agente, no modificar."
   ],
   "metadata": {
    "collapsed": false,
    "pycharm": {
     "name": "#%% md\n"
    }
   }
  },
  {
   "cell_type": "code",
   "execution_count": 4,
   "outputs": [],
   "source": [
    "def move(self, available_objects=None):\n",
    "\n",
    "  # Actualizar el entorno CLIPS y obtener las interacciones del agente\n",
    "  walls, objects, pos, ori = runner.agent_context(self)\n",
    "\n",
    "  # Obtener las funciones y los objetos gracias al algoritmo\n",
    "  functions, available_objects = algorithm(objects, runner.env, available_objects)\n",
    "\n",
    "  # Ejecutar las funciones en pending_function_calls\n",
    "  for j in functions:\n",
    "      j = j.replace('\"','')\n",
    "      refresh_position(runner.env,j)\n",
    "      eval(j)"
   ],
   "metadata": {
    "collapsed": false,
    "pycharm": {
     "name": "#%%\n"
    }
   }
  },
  {
   "cell_type": "markdown",
   "source": [
    "El siguiente bloque es la ejecución del puzzle.\n",
    "Puedes modificar el primer parámetro de la función InOut_Simple_Laberinth, que corresponde con el tamaño del escenario."
   ],
   "metadata": {
    "collapsed": false,
    "pycharm": {
     "name": "#%% md\n"
    }
   }
  },
  {
   "cell_type": "code",
   "execution_count": null,
   "outputs": [],
   "source": [
    "reset_position(runner.env, runner.memory)\n",
    "\n",
    "lb1 = No_Walls_Laberinth(7, plot_run='every epoch', move_protection=False)\n",
    "lb1.create_agent(agent_name, move)\n",
    "lb1.run()"
   ],
   "metadata": {
    "collapsed": false,
    "pycharm": {
     "name": "#%%\n",
     "is_executing": true
    }
   }
  },
  {
   "cell_type": "markdown",
   "source": [
    "El siguiente bloque es la herramienta para comprobar cuántas veces es tu agente capaz de escapar del laberinto.\n",
    "Puedes modificar la variable num_runs si lo deseas."
   ],
   "metadata": {
    "collapsed": false,
    "pycharm": {
     "name": "#%% md\n"
    }
   }
  },
  {
   "cell_type": "code",
   "execution_count": null,
   "outputs": [],
   "source": [
    "from tqdm import tqdm\n",
    "num_runs = 200\n",
    "num_success =  0\n",
    "\n",
    "for _ in tqdm(range(num_runs)):\n",
    "  lb1 = No_Walls_Laberinth(7, plot_run='never', move_protection=False)\n",
    "  lb1.create_agent(agent_name, move)\n",
    "  winner = lb1.run()\n",
    "\n",
    "  if winner is not None:\n",
    "    num_success += 1\n",
    "\n",
    "print(\"\\n\\nEncontraste la salida en\", num_success, \"ocasiones de\", num_runs)"
   ],
   "metadata": {
    "collapsed": false,
    "pycharm": {
     "name": "#%%\n",
     "is_executing": true
    }
   }
  }
 ],
 "metadata": {
  "kernelspec": {
   "display_name": "Python 3",
   "language": "python",
   "name": "python3"
  },
  "language_info": {
   "codemirror_mode": {
    "name": "ipython",
    "version": 2
   },
   "file_extension": ".py",
   "mimetype": "text/x-python",
   "name": "python",
   "nbconvert_exporter": "python",
   "pygments_lexer": "ipython2",
   "version": "2.7.6"
  }
 },
 "nbformat": 4,
 "nbformat_minor": 0
}